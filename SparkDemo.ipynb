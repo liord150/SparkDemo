{
 "cells": [
  {
   "cell_type": "code",
   "execution_count": 1,
   "id": "broke-pulse",
   "metadata": {},
   "outputs": [],
   "source": [
    "from pyspark import SparkContext\n",
    "from pyspark.sql import SparkSession\n",
    "from pyspark.sql.functions import col\n",
    "\n",
    "\n",
    "sc = SparkContext().getOrCreate()\n"
   ]
  },
  {
   "cell_type": "code",
   "execution_count": 2,
   "id": "broadband-bulgaria",
   "metadata": {},
   "outputs": [],
   "source": [
    "text_file = sc.textFile('/Users/ldadosh/Workspace/University/ds/spark_demo/ds_course.txt')\n",
    "counts = text_file.flatMap(lambda line: line.split(\" \")) \\\n",
    "             .map(lambda word: (word, 1)) \\\n",
    "             .reduceByKey(lambda a, b: a + b)\n",
    "counts_sorted= counts.sortBy(lambda a: a[1],  ascending=False)"
   ]
  },
  {
   "cell_type": "code",
   "execution_count": 3,
   "id": "marked-current",
   "metadata": {},
   "outputs": [
    {
     "data": {
      "text/plain": [
       "[('the', 4161),\n",
       " ('of', 3707),\n",
       " ('and', 3407),\n",
       " ('', 2729),\n",
       " ('.', 2720),\n",
       " ('to', 2308),\n",
       " ('a', 2025),\n",
       " ('in', 1705),\n",
       " ('data', 1623),\n",
       " ('is', 1449),\n",
       " ('for', 1396),\n",
       " ('on', 932),\n",
       " ('that', 882),\n",
       " ('as', 856),\n",
       " ('are', 765),\n",
       " ('with', 670),\n",
       " ('The', 612),\n",
       " ('be', 588),\n",
       " ('Data', 481),\n",
       " ('by', 456),\n",
       " ('from', 450),\n",
       " ('this', 437),\n",
       " ('can', 424),\n",
       " ('it', 394),\n",
       " ('Big', 384),\n",
       " ('big', 345),\n",
       " ('not', 340),\n",
       " ('an', 328),\n",
       " ('or', 327),\n",
       " ('which', 326)]"
      ]
     },
     "execution_count": 3,
     "metadata": {},
     "output_type": "execute_result"
    }
   ],
   "source": [
    "counts_sorted.take(30)"
   ]
  },
  {
   "cell_type": "code",
   "execution_count": 7,
   "id": "surgical-defeat",
   "metadata": {},
   "outputs": [],
   "source": [
    "spark = SparkSession \\\n",
    "    .builder \\\n",
    "    .getOrCreate()"
   ]
  },
  {
   "cell_type": "code",
   "execution_count": 15,
   "id": "approved-decimal",
   "metadata": {},
   "outputs": [
    {
     "name": "stdout",
     "output_type": "stream",
     "text": [
      "+---+--------------------+------+------+-----+---+------+-------+-------+-------+-----+----------+---------+\n",
      "|  #|                Name|Type_1|Type_2|Total| HP|Attack|Defense|Sp. Atk|Sp. Def|Speed|Generation|Legendary|\n",
      "+---+--------------------+------+------+-----+---+------+-------+-------+-------+-----+----------+---------+\n",
      "|  1|           Bulbasaur| Grass|Poison|  318| 45|    49|     49|     65|     65|   45|         1|    False|\n",
      "|  2|             Ivysaur| Grass|Poison|  405| 60|    62|     63|     80|     80|   60|         1|    False|\n",
      "|  3|            Venusaur| Grass|Poison|  525| 80|    82|     83|    100|    100|   80|         1|    False|\n",
      "|  3|VenusaurMega Venu...| Grass|Poison|  625| 80|   100|    123|    122|    120|   80|         1|    False|\n",
      "|  4|          Charmander|  Fire|  null|  309| 39|    52|     43|     60|     50|   65|         1|    False|\n",
      "|  5|          Charmeleon|  Fire|  null|  405| 58|    64|     58|     80|     65|   80|         1|    False|\n",
      "|  6|           Charizard|  Fire|Flying|  534| 78|    84|     78|    109|     85|  100|         1|    False|\n",
      "|  6|CharizardMega Cha...|  Fire|Dragon|  634| 78|   130|    111|    130|     85|  100|         1|    False|\n",
      "|  6|CharizardMega Cha...|  Fire|Flying|  634| 78|   104|     78|    159|    115|  100|         1|    False|\n",
      "|  7|            Squirtle| Water|  null|  314| 44|    48|     65|     50|     64|   43|         1|    False|\n",
      "|  8|           Wartortle| Water|  null|  405| 59|    63|     80|     65|     80|   58|         1|    False|\n",
      "|  9|           Blastoise| Water|  null|  530| 79|    83|    100|     85|    105|   78|         1|    False|\n",
      "|  9|BlastoiseMega Bla...| Water|  null|  630| 79|   103|    120|    135|    115|   78|         1|    False|\n",
      "| 10|            Caterpie|   Bug|  null|  195| 45|    30|     35|     20|     20|   45|         1|    False|\n",
      "| 11|             Metapod|   Bug|  null|  205| 50|    20|     55|     25|     25|   30|         1|    False|\n",
      "| 12|          Butterfree|   Bug|Flying|  395| 60|    45|     50|     90|     80|   70|         1|    False|\n",
      "| 13|              Weedle|   Bug|Poison|  195| 40|    35|     30|     20|     20|   50|         1|    False|\n",
      "| 14|              Kakuna|   Bug|Poison|  205| 45|    25|     50|     25|     25|   35|         1|    False|\n",
      "| 15|            Beedrill|   Bug|Poison|  395| 65|    90|     40|     45|     80|   75|         1|    False|\n",
      "| 15|BeedrillMega Beed...|   Bug|Poison|  495| 65|   150|     40|     15|     80|  145|         1|    False|\n",
      "+---+--------------------+------+------+-----+---+------+-------+-------+-------+-----+----------+---------+\n",
      "only showing top 20 rows\n",
      "\n"
     ]
    }
   ],
   "source": [
    "df = spark.read.format(\"csv\").option(\"header\", \"true\").load(\"/Users/ldadosh/Workspace/University/ds/spark_demo/pokemon.csv\")\n",
    "df.show()"
   ]
  },
  {
   "cell_type": "code",
   "execution_count": 16,
   "id": "forty-decimal",
   "metadata": {},
   "outputs": [
    {
     "name": "stdout",
     "output_type": "stream",
     "text": [
      "+--------+-----+\n",
      "|  Type_1|count|\n",
      "+--------+-----+\n",
      "|   Water|  112|\n",
      "|  Normal|   98|\n",
      "|   Grass|   70|\n",
      "|     Bug|   69|\n",
      "| Psychic|   57|\n",
      "|    Fire|   52|\n",
      "|Electric|   44|\n",
      "|    Rock|   44|\n",
      "|  Dragon|   32|\n",
      "|   Ghost|   32|\n",
      "|  Ground|   32|\n",
      "|    Dark|   31|\n",
      "|  Poison|   28|\n",
      "|Fighting|   27|\n",
      "|   Steel|   27|\n",
      "|     Ice|   24|\n",
      "|   Fairy|   17|\n",
      "|  Flying|    4|\n",
      "+--------+-----+\n",
      "\n"
     ]
    }
   ],
   "source": [
    "df.groupBy(\"Type_1\").count().sort(col(\"count\").desc()).show()"
   ]
  },
  {
   "cell_type": "code",
   "execution_count": 23,
   "id": "threaded-registration",
   "metadata": {},
   "outputs": [
    {
     "name": "stdout",
     "output_type": "stream",
     "text": [
      "+--------+-----+\n",
      "|  Type_1|count|\n",
      "+--------+-----+\n",
      "|   Water|  112|\n",
      "|  Normal|   98|\n",
      "|   Grass|   70|\n",
      "|     Bug|   69|\n",
      "| Psychic|   57|\n",
      "|    Fire|   52|\n",
      "|    Rock|   44|\n",
      "|Electric|   44|\n",
      "|   Ghost|   32|\n",
      "|  Dragon|   32|\n",
      "|  Ground|   32|\n",
      "|    Dark|   31|\n",
      "|  Poison|   28|\n",
      "|   Steel|   27|\n",
      "|Fighting|   27|\n",
      "|     Ice|   24|\n",
      "|   Fairy|   17|\n",
      "|  Flying|    4|\n",
      "+--------+-----+\n",
      "\n"
     ]
    }
   ],
   "source": [
    "df.createOrReplaceTempView(\"pokemon\")\n",
    "spark.sql(\"SELECT Type_1, count(*) as count from global_temp.pokemon GROUP BY Type_1\").sort(col(\"count\").desc()).show()\n"
   ]
  }
 ],
 "metadata": {
  "kernelspec": {
   "display_name": "Python 3",
   "language": "python",
   "name": "python3"
  },
  "language_info": {
   "codemirror_mode": {
    "name": "ipython",
    "version": 3
   },
   "file_extension": ".py",
   "mimetype": "text/x-python",
   "name": "python",
   "nbconvert_exporter": "python",
   "pygments_lexer": "ipython3",
   "version": "3.7.0"
  }
 },
 "nbformat": 4,
 "nbformat_minor": 5
}
